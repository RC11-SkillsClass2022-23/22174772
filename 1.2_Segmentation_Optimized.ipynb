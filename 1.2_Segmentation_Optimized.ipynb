{
  "nbformat": 4,
  "nbformat_minor": 0,
  "metadata": {
    "colab": {
      "provenance": [],
      "authorship_tag": "ABX9TyODXwqrqC0SNEWz/T/53I86",
      "include_colab_link": true
    },
    "kernelspec": {
      "name": "python3",
      "display_name": "Python 3"
    },
    "language_info": {
      "name": "python"
    }
  },
  "cells": [
    {
      "cell_type": "markdown",
      "metadata": {
        "id": "view-in-github",
        "colab_type": "text"
      },
      "source": [
        "<a href=\"https://colab.research.google.com/github/RC11-SkillsClass2022-23/KexinGao_Augustine/blob/main/1.2_Segmentation_Optimized.ipynb\" target=\"_parent\"><img src=\"https://colab.research.google.com/assets/colab-badge.svg\" alt=\"Open In Colab\"/></a>"
      ]
    },
    {
      "cell_type": "code",
      "execution_count": null,
      "metadata": {
        "id": "UnQczempMuY2"
      },
      "outputs": [],
      "source": [
        "def Segmentation(folder):\n",
        "  a = 1\n",
        "  image_list = os.listdir(folder)\n",
        "  for image in image_list:\n",
        "    img_path = os.path.join(folder, image)\n",
        "    img = cv2.imread(img_path)\n",
        "\n",
        "    masks = mask_generator.generate(img)\n",
        "    n = 1\n",
        "    for i in masks:\n",
        "      name = i['segmentation']\n",
        "\n",
        "      output_folder = '/content/drive/MyDrive/for_masks/'\n",
        "      output_path_mask = os.path.join(output_folder, 'save_npy', f'{a}_{n}.npy')\n",
        "      output_path_image = os.path.join(output_folder, 'save_image', f'{a}_{n}.png')\n",
        "      output_path_cropped = os.path.join(output_folder, 'save_cropped', f'{a}_{n}.png')\n",
        "\n",
        "      if not os.path.exists(output_folder):\n",
        "          os.makedirs(output_folder)\n",
        "\n",
        "      np.save(output_path_mask, name)\n",
        "\n",
        "      mask_array = np.array(name)\n",
        "      mask_image = Image.fromarray(mask_array.astype(np.uint8) * 255)\n",
        "      mask_image.save(output_path_image)\n",
        "\n",
        "      mask = cv2.imread(output_path_image, 0)\n",
        "      masked_img = cv2.bitwise_and(img, img, mask=mask)\n",
        "      cv2.imwrite(output_path_cropped, masked_img)\n",
        "\n",
        "      n += 1\n",
        "    a += 1\n"
      ]
    }
  ]
}