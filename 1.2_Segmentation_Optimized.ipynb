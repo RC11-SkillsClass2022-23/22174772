{
  "nbformat": 4,
  "nbformat_minor": 0,
  "metadata": {
    "colab": {
      "provenance": [],
      "gpuType": "T4",
      "mount_file_id": "1ewSq5a6zZLHgoMft9sjqUzOCq9lMiKkg",
      "authorship_tag": "ABX9TyOC3ADRT4PCROoUcCqQ43+K",
      "include_colab_link": true
    },
    "kernelspec": {
      "name": "python3",
      "display_name": "Python 3"
    },
    "language_info": {
      "name": "python"
    },
    "accelerator": "GPU",
    "gpuClass": "standard"
  },
  "cells": [
    {
      "cell_type": "markdown",
      "metadata": {
        "id": "view-in-github",
        "colab_type": "text"
      },
      "source": [
        "<a href=\"https://colab.research.google.com/github/RC11-SkillsClass2022-23/KexinGao_Augustine/blob/main/1.2_Segmentation_Optimized.ipynb\" target=\"_parent\"><img src=\"https://colab.research.google.com/assets/colab-badge.svg\" alt=\"Open In Colab\"/></a>"
      ]
    },
    {
      "cell_type": "code",
      "execution_count": 2,
      "metadata": {
        "id": "UnQczempMuY2"
      },
      "outputs": [],
      "source": [
        "def Segmentation(folder):\n",
        "\n",
        "  output_folder_masks = '/content/drive/MyDrive/for_masks/save_npy/'\n",
        "  output_folder_image = '/content/drive/MyDrive/for_masks/save_image/'\n",
        "  output_folder_masked = '/content/drive/MyDrive/for_masks/save_masked/'\n",
        "  output_folder_cropped = '/content/drive/MyDrive/for_som/'\n",
        "  output_folder = [output_folder_masks,output_folder_image,output_folder_masked,output_folder_cropped]\n",
        "  if not os.path.exists(output_folder):\n",
        "    os.makedirs(output_folder)\n",
        "\n",
        "  for i in output_folder:\n",
        "    if not os.path.exists(i):  \n",
        "      os.makedirs(i)\n",
        "  \n",
        "  a = 1\n",
        "  image_list = os.listdir(folder)\n",
        "  for image in image_list:\n",
        "    img_path = os.path.join(folder, image)\n",
        "    img = cv2.imread(img_path)\n",
        "    masks = mask_generator.generate(img)\n",
        "    n = 1\n",
        "\n",
        "    for i in masks:\n",
        "      name = i['segmentation']\n",
        "      output_path = output_folder_masks+str(a)+'_'+str(n)+'.npy'\n",
        "      np.save(output_path, name)\n",
        "      array = np.load(output_path)\n",
        "      mask_image = Image.fromarray(array)\n",
        "      output_path_image = output_folder_image+str(a)+'_'+str(n)+'.png'\n",
        "      mask_image.save(output_folder_image+str(a)+'_'+str(n)+'.png')\n",
        "      mask = cv2.imread(output_path_image, 0)\n",
        "      masked_img = cv2.bitwise_and(img, img, mask=mask)\n",
        "      cv2.imwrite(output_folder_masked+str(a)+'_'+str(n)+'.png', masked_img)\n",
        "\n",
        "      n += 1\n",
        "    a += 1"
      ]
    }
  ]
}