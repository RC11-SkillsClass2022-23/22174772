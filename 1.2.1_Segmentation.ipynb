{
  "nbformat": 4,
  "nbformat_minor": 0,
  "metadata": {
    "colab": {
      "provenance": [],
      "authorship_tag": "ABX9TyNeLHQJI5CMDQMePBhZhxrI",
      "include_colab_link": true
    },
    "kernelspec": {
      "name": "python3",
      "display_name": "Python 3"
    },
    "language_info": {
      "name": "python"
    }
  },
  "cells": [
    {
      "cell_type": "markdown",
      "metadata": {
        "id": "view-in-github",
        "colab_type": "text"
      },
      "source": [
        "<a href=\"https://colab.research.google.com/github/RC11-SkillsClass2022-23/KexinGao_Augustine/blob/main/1_2_1_Segmentation.ipynb\" target=\"_parent\"><img src=\"https://colab.research.google.com/assets/colab-badge.svg\" alt=\"Open In Colab\"/></a>"
      ]
    },
    {
      "cell_type": "code",
      "source": [
        "def Segmentation(folder):\n",
        "  #load the images\n",
        "  a = 1\n",
        "  image_list = os.listdir(folder)\n",
        "  images = []\n",
        "  for image in image_list:\n",
        "    images.append(os.path.join(folder, image))\n",
        "  for image in images:\n",
        "    img = cv2.imread(image)\n",
        "    masks = mask_generator.generate(img)\n",
        "    #download the masks\n",
        "    n = 1\n",
        "    for i in masks:\n",
        "      name = i['segmentation']\n",
        "      #build output folders\n",
        "      output_folder_masks = '/content/drive/MyDrive/for_masks/save_npy/'\n",
        "      output_folder_image = '/content/drive/MyDrive/for_masks/save_image/'\n",
        "      output_folder_masked = '/content/drive/MyDrive/for_masks/save_masked/'\n",
        "      output_folder_cropped = '/content/drive/MyDrive/for_som/'\n",
        "      output_folder = [output_folder_masks,output_folder_image,output_folder_masked,output_folder_cropped]\n",
        "      for i in output_folder:\n",
        "        if not os.path.exists(i):  \n",
        "          os.makedirs(i)\n",
        "      #save .npy file\n",
        "      output_path = output_folder_masks+str(a)+'_'+str(n)+'.npy'\n",
        "      np.save(output_path, name)\n",
        "      #save .png file\n",
        "      array = np.load(output_path)\n",
        "      mask_image = Image.fromarray(array)\n",
        "      output_path_image = output_folder_image+str(a)+'_'+str(n)+'.png'\n",
        "      mask_image.save(output_folder_image+str(a)+'_'+str(n)+'.png')\n",
        "      #save the masked image as png\n",
        "      mask = cv2.imread(output_path_image, 0)\n",
        "      masked_img = cv2.bitwise_and(img, img, mask=mask)\n",
        "      cv2.imwrite(output_folder_masked+str(a)+'_'+str(n)+'.png', masked_img)\n",
        "\n",
        "      #crop the masked image\n",
        "      #Calculate the coordinates\n",
        "      colored_indices = np.where(mask)\n",
        "      #Calculate the minimum and maximum coordinates along each axis\n",
        "      min_x, max_x = min(colored_indices[1]), max(colored_indices[1])\n",
        "      min_y, max_y = min(colored_indices[0]), max(colored_indices[0])\n",
        "      #trim and save image\n",
        "      crop_box = (min_x, min_y, max_x, max_y)\n",
        "      cropping = Image.open(output_folder_masked+str(a)+'_'+str(n)+'.png')\n",
        "      cropped_img = cropping.crop(crop_box)\n",
        "      cropped_img.save(output_folder_cropped+str(a)+'_'+str(n)+'.png')\n",
        "\n",
        "      n = n+1\n",
        "    a = a+1"
      ],
      "metadata": {
        "id": "nPgo1X8Ubwls"
      },
      "execution_count": null,
      "outputs": []
    },
    {
      "cell_type": "code",
      "source": [
        "#input a folder of frames\n",
        "folder = '/content/drive/MyDrive/for_masks/demo'\n",
        "Segmentation(folder)"
      ],
      "metadata": {
        "id": "db95hiiob1z3"
      },
      "execution_count": null,
      "outputs": []
    }
  ]
}
