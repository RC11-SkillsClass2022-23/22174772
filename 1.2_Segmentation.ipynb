{
  "nbformat": 4,
  "nbformat_minor": 0,
  "metadata": {
    "colab": {
      "provenance": [],
      "authorship_tag": "ABX9TyMNhK0Oaj7jJNAk/3llzGYW",
      "include_colab_link": true
    },
    "kernelspec": {
      "name": "python3",
      "display_name": "Python 3"
    },
    "language_info": {
      "name": "python"
    }
  },
  "cells": [
    {
      "cell_type": "markdown",
      "metadata": {
        "id": "view-in-github",
        "colab_type": "text"
      },
      "source": [
        "<a href=\"https://colab.research.google.com/github/RC11-SkillsClass2022-23/KexinGao_Augustine/blob/main/1.2_Segmentation.ipynb\" target=\"_parent\"><img src=\"https://colab.research.google.com/assets/colab-badge.svg\" alt=\"Open In Colab\"/></a>"
      ]
    },
    {
      "cell_type": "code",
      "source": [
        "def Segmentation(folder):\n",
        "  \n",
        "  a = 1\n",
        "  image_list = os.listdir(folder)\n",
        "  images = []\n",
        "  for image in image_list:\n",
        "    images.append(os.path.join(folder, image))\n",
        "  for image in images:\n",
        "    img = cv2.imread(image)\n",
        "    masks = mask_generator.generate(img)\n",
        "    n = 1\n",
        "\n",
        "    for i in masks:\n",
        "      name = i['segmentation']\n",
        "      output_folder_masks = '/content/drive/MyDrive/for_masks/save_npy/'\n",
        "      output_folder_image = '/content/drive/MyDrive/for_masks/save_image/'\n",
        "      output_folder_masked = '/content/drive/MyDrive/for_masks/save_masked/'\n",
        "      output_folder_cropped = '/content/drive/MyDrive/for_som/'\n",
        "      output_folder = [output_folder_masks,output_folder_image,output_folder_masked,output_folder_cropped]\n",
        "      for i in output_folder:\n",
        "        if not os.path.exists(i):  \n",
        "          os.makedirs(i)\n",
        "      \n",
        "      output_path = output_folder_masks+str(a)+'_'+str(n)+'.npy'\n",
        "      np.save(output_path, name)\n",
        "      array = np.load(output_path)\n",
        "      mask_image = Image.fromarray(array)\n",
        "      output_path_image = output_folder_image+str(a)+'_'+str(n)+'.png'\n",
        "      mask_image.save(output_folder_image+str(a)+'_'+str(n)+'.png')\n",
        "      mask = cv2.imread(output_path_image, 0)\n",
        "      masked_img = cv2.bitwise_and(img, img, mask=mask)\n",
        "      cv2.imwrite(output_folder_masked+str(a)+'_'+str(n)+'.png', masked_img)\n",
        "\n",
        "      n += 1\n",
        "    a += 1"
      ],
      "metadata": {
        "id": "nPgo1X8Ubwls"
      },
      "execution_count": null,
      "outputs": []
    }
  ]
}