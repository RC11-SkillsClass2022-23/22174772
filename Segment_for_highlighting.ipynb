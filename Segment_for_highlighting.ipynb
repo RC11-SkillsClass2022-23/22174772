{
  "nbformat": 4,
  "nbformat_minor": 0,
  "metadata": {
    "colab": {
      "provenance": [],
      "gpuType": "T4",
      "collapsed_sections": [
        "dfwC-C270dpc"
      ],
      "mount_file_id": "17eFhUkvUQWa-TuT9UWmnb23jpm_2coLK",
      "authorship_tag": "ABX9TyN3B4nQpbyb40MeRu7JwCcY",
      "include_colab_link": true
    },
    "kernelspec": {
      "name": "python3",
      "display_name": "Python 3"
    },
    "language_info": {
      "name": "python"
    },
    "accelerator": "GPU",
    "gpuClass": "standard"
  },
  "cells": [
    {
      "cell_type": "markdown",
      "metadata": {
        "id": "view-in-github",
        "colab_type": "text"
      },
      "source": [
        "<a href=\"https://colab.research.google.com/github/RC11-SkillsClass2022-23/KexinGao_Augustine/blob/main/Segment_for_highlighting.ipynb\" target=\"_parent\"><img src=\"https://colab.research.google.com/assets/colab-badge.svg\" alt=\"Open In Colab\"/></a>"
      ]
    },
    {
      "cell_type": "markdown",
      "source": [
        "#Auto-generating mask"
      ],
      "metadata": {
        "id": "ewWZiYEC0hj2"
      }
    },
    {
      "cell_type": "markdown",
      "source": [
        "##install"
      ],
      "metadata": {
        "id": "zHwirMIqC9P5"
      }
    },
    {
      "cell_type": "code",
      "source": [
        "!pip install git+https://github.com/facebookresearch/segment-anything.git\n",
        "\n",
        "import os\n",
        "import cv2\n",
        "import json\n",
        "import numpy as np\n",
        "from PIL import Image\n",
        "from segment_anything.utils.onnx import SamOnnxModel\n",
        "from segment_anything import sam_model_registry, SamPredictor, SamAutomaticMaskGenerator\n",
        "sam = sam_model_registry[\"vit_h\"](checkpoint=\"/content/drive/MyDrive/for_masks/sam_vit_h_4b8939.pth\")\n",
        "sam.to(device = \"cuda\")\n",
        "mask_generator = SamAutomaticMaskGenerator(sam)"
      ],
      "metadata": {
        "id": "xqtosOSzn4qW",
        "colab": {
          "base_uri": "https://localhost:8080/"
        },
        "outputId": "099e1abe-a334-42d2-ce8c-1256fa72a075"
      },
      "execution_count": 1,
      "outputs": [
        {
          "output_type": "stream",
          "name": "stdout",
          "text": [
            "Looking in indexes: https://pypi.org/simple, https://us-python.pkg.dev/colab-wheels/public/simple/\n",
            "Collecting git+https://github.com/facebookresearch/segment-anything.git\n",
            "  Cloning https://github.com/facebookresearch/segment-anything.git to /tmp/pip-req-build-d42g_h2u\n",
            "  Running command git clone --filter=blob:none --quiet https://github.com/facebookresearch/segment-anything.git /tmp/pip-req-build-d42g_h2u\n",
            "  Resolved https://github.com/facebookresearch/segment-anything.git to commit 6fdee8f2727f4506cfbbe553e23b895e27956588\n",
            "  Preparing metadata (setup.py) ... \u001b[?25l\u001b[?25hdone\n",
            "Building wheels for collected packages: segment-anything\n",
            "  Building wheel for segment-anything (setup.py) ... \u001b[?25l\u001b[?25hdone\n",
            "  Created wheel for segment-anything: filename=segment_anything-1.0-py3-none-any.whl size=36610 sha256=49e6945978173b0ea9443245bdda0decaf3c603d34c50f73cdf4b2b4147a1c67\n",
            "  Stored in directory: /tmp/pip-ephem-wheel-cache-9kt4wspj/wheels/10/cf/59/9ccb2f0a1bcc81d4fbd0e501680b5d088d690c6cfbc02dc99d\n",
            "Successfully built segment-anything\n",
            "Installing collected packages: segment-anything\n",
            "Successfully installed segment-anything-1.0\n"
          ]
        }
      ]
    },
    {
      "cell_type": "markdown",
      "source": [
        "##One image"
      ],
      "metadata": {
        "id": "dfwC-C270dpc"
      }
    },
    {
      "cell_type": "code",
      "source": [
        "image = '/content/drive/MyDrive/for_masks/demo/output_229.jpg'\n",
        "img = cv2.imread(image)\n",
        "masks = mask_generator.generate(img) #the generated mask"
      ],
      "metadata": {
        "id": "pFQG0XCw6h4p"
      },
      "execution_count": 9,
      "outputs": []
    },
    {
      "cell_type": "code",
      "source": [
        "#masks is a dictionary with several properties\n",
        "#segmentation in mask is an ndarray, can be packed with .npy\n",
        "#export each mask packed in a single .npy file\n",
        "\n",
        "n = 1\n",
        "for i in masks:\n",
        "  name = i['segmentation']\n",
        "  output_path = '/content/drive/MyDrive/for_masks/save/01/01_'+str(n)+'.npy'#stores only one array in one .npy\n",
        "  np.save(output_path, name)\n",
        "  n = n+1"
      ],
      "metadata": {
        "id": "BB6LGh3mrRTZ"
      },
      "execution_count": null,
      "outputs": []
    },
    {
      "cell_type": "code",
      "source": [
        "#for visualization, transform the array into png images\n",
        "array = np.load('/content/drive/MyDrive/for_masks/save/01/01_1.npy')\n",
        "image = Image.fromarray(array)\n",
        "image.save('/content/drive/MyDrive/for_masks/save/01/01_1.png')"
      ],
      "metadata": {
        "id": "uS6X8-4X5tUX"
      },
      "execution_count": null,
      "outputs": []
    },
    {
      "cell_type": "code",
      "source": [
        "#extract the masked object in the image\n",
        "\n",
        "# Load the image and mask\n",
        "img = cv2.imread(\"image.jpg\")\n",
        "mask = cv2.imread(\"mask.jpg\", 0) # 0 means load as grayscale\n",
        "\n",
        "# Apply the mask to the image\n",
        "masked_img = cv2.bitwise_and(img, img, mask=mask)\n",
        "\n",
        "# Export the masked image\n",
        "cv2.imwrite(\"masked_image.jpg\", masked_img)\n"
      ],
      "metadata": {
        "id": "DjZihRPHpRSZ"
      },
      "execution_count": null,
      "outputs": []
    },
    {
      "cell_type": "code",
      "source": [
        "#Extract the masked object in the image\n",
        "img = cv2.imread('/content/drive/MyDrive/for_masks/demo/output_229.jpg')\n",
        "mask = cv2.imread('/content/drive/MyDrive/for_masks/save_image/1/1_3.png', 0) # 0 means load as grayscale\n",
        "\n",
        "# Apply the mask to the image\n",
        "masked_img = cv2.bitwise_and(img, img, mask=mask)\n",
        "\n",
        "# Export the masked image\n",
        "cv2.imwrite('/content/drive/MyDrive/for_masks/demo/output_229.png', masked_img)\n"
      ],
      "metadata": {
        "colab": {
          "base_uri": "https://localhost:8080/"
        },
        "id": "cfoQKPSTpDnC",
        "outputId": "2d195549-2042-41f7-d889-6b830bbd0f94"
      },
      "execution_count": 3,
      "outputs": [
        {
          "output_type": "execute_result",
          "data": {
            "text/plain": [
              "True"
            ]
          },
          "metadata": {},
          "execution_count": 3
        }
      ]
    },
    {
      "cell_type": "markdown",
      "source": [
        "###is there a need for packing masks in one file?"
      ],
      "metadata": {
        "id": "kQK0Ty_yJw4u"
      }
    },
    {
      "cell_type": "code",
      "source": [
        "#is there a need for packing masks in one file?\n",
        "#not needed\n",
        "np.savez('/content/drive/MyDrive/for_masks/data.npz',)#names of all the arrays need packing"
      ],
      "metadata": {
        "id": "rJwTv5PTzw2e"
      },
      "execution_count": null,
      "outputs": []
    },
    {
      "cell_type": "markdown",
      "source": [
        "##Batch processing"
      ],
      "metadata": {
        "id": "yi4Ea9DWctR4"
      }
    },
    {
      "cell_type": "code",
      "source": [
        "def Segmentation(folder):\n",
        "  #load the images\n",
        "  a = 1\n",
        "  image_list = os.listdir(folder)\n",
        "  images = []\n",
        "  for image in image_list:\n",
        "    images.append(os.path.join(folder, image))\n",
        "  for image in images:\n",
        "    img = cv2.imread(image)\n",
        "    masks = mask_generator.generate(img)\n",
        "    #download the masks\n",
        "    n = 1\n",
        "    for i in masks:\n",
        "      name = i['segmentation']\n",
        "      if n == 1:\n",
        "        output_folder = '/content/drive/MyDrive/for_masks/save_npy/'+str(a)\n",
        "        output_folder_image = '/content/drive/MyDrive/for_masks/save_image/'+str(a)\n",
        "        output_folder_masked = '/content/drive/MyDrive/for_masks/save_masked/'+str(a)  \n",
        "        os.makedirs(output_folder)\n",
        "        os.makedirs(output_folder_image)\n",
        "        os.makedirs(output_folder_masked)\n",
        "      #save .npy file\n",
        "      output_path = output_folder+'/'+str(a)+'_'+str(n)+'.npy'\n",
        "      np.save(output_path, name)\n",
        "      #save .png file\n",
        "      array = np.load(output_path)\n",
        "      mask_image = Image.fromarray(array)\n",
        "      output_path_image = output_folder_image+'/'+str(a)+'_'+str(n)+'.png'\n",
        "      mask_image.save(output_path_image)\n",
        "      #save the masked image as png\n",
        "      mask = cv2.imread(output_path_image, 0)\n",
        "      masked_img = cv2.bitwise_and(img, img, mask=mask)\n",
        "      cv2.imwrite(output_folder_masked+'/'+str(a)+'_'+str(n)+'.png', masked_img)\n",
        "      n = n+1\n",
        "    a = a+1"
      ],
      "metadata": {
        "id": "dcZHcyawReoT"
      },
      "execution_count": 9,
      "outputs": []
    },
    {
      "cell_type": "code",
      "source": [
        "#input a folder of frames\n",
        "folder = '/content/drive/MyDrive/for_masks/demo'\n",
        "Segmentation(folder)"
      ],
      "metadata": {
        "id": "Mjwc7-0NJC3q",
        "colab": {
          "base_uri": "https://localhost:8080/",
          "height": 358
        },
        "outputId": "ac61fee9-a1b1-45d6-c887-c57d6aa63f09"
      },
      "execution_count": 10,
      "outputs": [
        {
          "output_type": "error",
          "ename": "AttributeError",
          "evalue": "ignored",
          "traceback": [
            "\u001b[0;31m---------------------------------------------------------------------------\u001b[0m",
            "\u001b[0;31mAttributeError\u001b[0m                            Traceback (most recent call last)",
            "\u001b[0;32m<ipython-input-10-eabb7eafa9c2>\u001b[0m in \u001b[0;36m<cell line: 3>\u001b[0;34m()\u001b[0m\n\u001b[1;32m      1\u001b[0m \u001b[0;31m#input a folder of frames\u001b[0m\u001b[0;34m\u001b[0m\u001b[0;34m\u001b[0m\u001b[0m\n\u001b[1;32m      2\u001b[0m \u001b[0mfolder\u001b[0m \u001b[0;34m=\u001b[0m \u001b[0;34m'/content/drive/MyDrive/for_masks/demo'\u001b[0m\u001b[0;34m\u001b[0m\u001b[0;34m\u001b[0m\u001b[0m\n\u001b[0;32m----> 3\u001b[0;31m \u001b[0mSegmentation\u001b[0m\u001b[0;34m(\u001b[0m\u001b[0mfolder\u001b[0m\u001b[0;34m)\u001b[0m\u001b[0;34m\u001b[0m\u001b[0;34m\u001b[0m\u001b[0m\n\u001b[0m",
            "\u001b[0;32m<ipython-input-9-220a5cf6ffdc>\u001b[0m in \u001b[0;36mSegmentation\u001b[0;34m(folder)\u001b[0m\n\u001b[1;32m      8\u001b[0m   \u001b[0;32mfor\u001b[0m \u001b[0mimage\u001b[0m \u001b[0;32min\u001b[0m \u001b[0mimages\u001b[0m\u001b[0;34m:\u001b[0m\u001b[0;34m\u001b[0m\u001b[0;34m\u001b[0m\u001b[0m\n\u001b[1;32m      9\u001b[0m     \u001b[0mimg\u001b[0m \u001b[0;34m=\u001b[0m \u001b[0mcv2\u001b[0m\u001b[0;34m.\u001b[0m\u001b[0mimread\u001b[0m\u001b[0;34m(\u001b[0m\u001b[0mimage\u001b[0m\u001b[0;34m)\u001b[0m\u001b[0;34m\u001b[0m\u001b[0;34m\u001b[0m\u001b[0m\n\u001b[0;32m---> 10\u001b[0;31m     \u001b[0mmasks\u001b[0m \u001b[0;34m=\u001b[0m \u001b[0mmask_generator\u001b[0m\u001b[0;34m.\u001b[0m\u001b[0mgenerate\u001b[0m\u001b[0;34m(\u001b[0m\u001b[0mimg\u001b[0m\u001b[0;34m)\u001b[0m\u001b[0;34m\u001b[0m\u001b[0;34m\u001b[0m\u001b[0m\n\u001b[0m\u001b[1;32m     11\u001b[0m     \u001b[0;31m#download the masks\u001b[0m\u001b[0;34m\u001b[0m\u001b[0;34m\u001b[0m\u001b[0m\n\u001b[1;32m     12\u001b[0m     \u001b[0mn\u001b[0m \u001b[0;34m=\u001b[0m \u001b[0;36m1\u001b[0m\u001b[0;34m\u001b[0m\u001b[0;34m\u001b[0m\u001b[0m\n",
            "\u001b[0;32m/usr/local/lib/python3.10/dist-packages/torch/utils/_contextlib.py\u001b[0m in \u001b[0;36mdecorate_context\u001b[0;34m(*args, **kwargs)\u001b[0m\n\u001b[1;32m    113\u001b[0m     \u001b[0;32mdef\u001b[0m \u001b[0mdecorate_context\u001b[0m\u001b[0;34m(\u001b[0m\u001b[0;34m*\u001b[0m\u001b[0margs\u001b[0m\u001b[0;34m,\u001b[0m \u001b[0;34m**\u001b[0m\u001b[0mkwargs\u001b[0m\u001b[0;34m)\u001b[0m\u001b[0;34m:\u001b[0m\u001b[0;34m\u001b[0m\u001b[0;34m\u001b[0m\u001b[0m\n\u001b[1;32m    114\u001b[0m         \u001b[0;32mwith\u001b[0m \u001b[0mctx_factory\u001b[0m\u001b[0;34m(\u001b[0m\u001b[0;34m)\u001b[0m\u001b[0;34m:\u001b[0m\u001b[0;34m\u001b[0m\u001b[0;34m\u001b[0m\u001b[0m\n\u001b[0;32m--> 115\u001b[0;31m             \u001b[0;32mreturn\u001b[0m \u001b[0mfunc\u001b[0m\u001b[0;34m(\u001b[0m\u001b[0;34m*\u001b[0m\u001b[0margs\u001b[0m\u001b[0;34m,\u001b[0m \u001b[0;34m**\u001b[0m\u001b[0mkwargs\u001b[0m\u001b[0;34m)\u001b[0m\u001b[0;34m\u001b[0m\u001b[0;34m\u001b[0m\u001b[0m\n\u001b[0m\u001b[1;32m    116\u001b[0m \u001b[0;34m\u001b[0m\u001b[0m\n\u001b[1;32m    117\u001b[0m     \u001b[0;32mreturn\u001b[0m \u001b[0mdecorate_context\u001b[0m\u001b[0;34m\u001b[0m\u001b[0;34m\u001b[0m\u001b[0m\n",
            "\u001b[0;32m/usr/local/lib/python3.10/dist-packages/segment_anything/automatic_mask_generator.py\u001b[0m in \u001b[0;36mgenerate\u001b[0;34m(self, image)\u001b[0m\n\u001b[1;32m    161\u001b[0m \u001b[0;34m\u001b[0m\u001b[0m\n\u001b[1;32m    162\u001b[0m         \u001b[0;31m# Generate masks\u001b[0m\u001b[0;34m\u001b[0m\u001b[0;34m\u001b[0m\u001b[0m\n\u001b[0;32m--> 163\u001b[0;31m         \u001b[0mmask_data\u001b[0m \u001b[0;34m=\u001b[0m \u001b[0mself\u001b[0m\u001b[0;34m.\u001b[0m\u001b[0m_generate_masks\u001b[0m\u001b[0;34m(\u001b[0m\u001b[0mimage\u001b[0m\u001b[0;34m)\u001b[0m\u001b[0;34m\u001b[0m\u001b[0;34m\u001b[0m\u001b[0m\n\u001b[0m\u001b[1;32m    164\u001b[0m \u001b[0;34m\u001b[0m\u001b[0m\n\u001b[1;32m    165\u001b[0m         \u001b[0;31m# Filter small disconnected regions and holes in masks\u001b[0m\u001b[0;34m\u001b[0m\u001b[0;34m\u001b[0m\u001b[0m\n",
            "\u001b[0;32m/usr/local/lib/python3.10/dist-packages/segment_anything/automatic_mask_generator.py\u001b[0m in \u001b[0;36m_generate_masks\u001b[0;34m(self, image)\u001b[0m\n\u001b[1;32m    196\u001b[0m \u001b[0;34m\u001b[0m\u001b[0m\n\u001b[1;32m    197\u001b[0m     \u001b[0;32mdef\u001b[0m \u001b[0m_generate_masks\u001b[0m\u001b[0;34m(\u001b[0m\u001b[0mself\u001b[0m\u001b[0;34m,\u001b[0m \u001b[0mimage\u001b[0m\u001b[0;34m:\u001b[0m \u001b[0mnp\u001b[0m\u001b[0;34m.\u001b[0m\u001b[0mndarray\u001b[0m\u001b[0;34m)\u001b[0m \u001b[0;34m->\u001b[0m \u001b[0mMaskData\u001b[0m\u001b[0;34m:\u001b[0m\u001b[0;34m\u001b[0m\u001b[0;34m\u001b[0m\u001b[0m\n\u001b[0;32m--> 198\u001b[0;31m         \u001b[0morig_size\u001b[0m \u001b[0;34m=\u001b[0m \u001b[0mimage\u001b[0m\u001b[0;34m.\u001b[0m\u001b[0mshape\u001b[0m\u001b[0;34m[\u001b[0m\u001b[0;34m:\u001b[0m\u001b[0;36m2\u001b[0m\u001b[0;34m]\u001b[0m\u001b[0;34m\u001b[0m\u001b[0;34m\u001b[0m\u001b[0m\n\u001b[0m\u001b[1;32m    199\u001b[0m         crop_boxes, layer_idxs = generate_crop_boxes(\n\u001b[1;32m    200\u001b[0m             \u001b[0morig_size\u001b[0m\u001b[0;34m,\u001b[0m \u001b[0mself\u001b[0m\u001b[0;34m.\u001b[0m\u001b[0mcrop_n_layers\u001b[0m\u001b[0;34m,\u001b[0m \u001b[0mself\u001b[0m\u001b[0;34m.\u001b[0m\u001b[0mcrop_overlap_ratio\u001b[0m\u001b[0;34m\u001b[0m\u001b[0;34m\u001b[0m\u001b[0m\n",
            "\u001b[0;31mAttributeError\u001b[0m: 'NoneType' object has no attribute 'shape'"
          ]
        }
      ]
    }
  ]
}